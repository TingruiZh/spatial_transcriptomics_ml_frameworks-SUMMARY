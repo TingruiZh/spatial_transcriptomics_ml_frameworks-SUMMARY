{
 "cells": [
  {
   "cell_type": "markdown",
   "id": "48723c0f",
   "metadata": {},
   "source": [
    "#  UTAG Input & Output Summary\n",
    "\n",
    "##  Input to UTAG\n",
    "- **AnnData Object (`minimal_adata`)** with:\n",
    "  - `X`: Numeric feature matrix (float64).\n",
    "  - `obs`: Includes at least:\n",
    "    - `roi`: Slide identifier.\n",
    "  - `obsm['spatial']`: 2D numpy array of Y and X coordinates.\n",
    "  - `var`: Feature metadata.\n",
    "\n",
    "##  Output from UTAG\n",
    "- `adata.obs`: Adds a new column for cluster labels, e.g.:\n",
    "  - `UTAG Label_leiden_0.2`\n",
    "- Same `AnnData` structure but with cluster annotations.\n"
   ]
  },
  {
   "cell_type": "code",
   "execution_count": null,
   "id": "0addf78e",
   "metadata": {},
   "outputs": [],
   "source": [
    "import numpy as np\n",
    "import pandas as pd\n",
    "import scanpy as sc\n",
    "import anndata\n",
    "import matplotlib.pyplot as plt\n",
    "import seaborn as sns\n",
    "from sklearn.metrics import adjusted_rand_score\n",
    "from utag import utag"
   ]
  },
  {
   "cell_type": "markdown",
   "id": "32eaa1d8",
   "metadata": {},
   "source": [
    "# Read Data and dealing with spatial coordinate"
   ]
  },
  {
   "cell_type": "code",
   "execution_count": null,
   "id": "6730b204",
   "metadata": {},
   "outputs": [],
   "source": [
    "# --- 1 ---\n",
    "adata = sc.read_h5ad('/home/tingruiz/utag/250331_annotation_xenium_tacco.h5ad')\n",
    "\n",
    "# --- 2 ---\n",
    "adata.obs['x'] = adata.obs['x_centroid']\n",
    "adata.obs['y'] = adata.obs['y_centroid']\n",
    "adata.obsm['spatial'] = adata.obs[['y', 'x']].to_numpy()\n",
    "\n",
    "# --- 3 ---\n",
    "np.random.seed(42)\n",
    "random_indices = np.random.choice(adata.n_obs, size=10000, replace=False)\n",
    "adata = adata[random_indices].copy()"
   ]
  },
  {
   "cell_type": "markdown",
   "id": "2f02cea4",
   "metadata": {},
   "source": [
    "# Prepare for minimal AnnData"
   ]
  },
  {
   "cell_type": "code",
   "execution_count": null,
   "id": "2b4102c7",
   "metadata": {},
   "outputs": [],
   "source": [
    "# --- 4 ---\n",
    "if 'roi' not in adata.obs:\n",
    "    adata.obs['roi'] = 'ROI1'\n",
    "\n",
    "X = adata.X\n",
    "obs = adata.obs[['roi']].copy()\n",
    "var = pd.DataFrame(index=[f'feature_{i}' for i in range(X.shape[1])])\n",
    "\n",
    "minimal_adata = anndata.AnnData(X=X, obs=obs, var=var)\n",
    "minimal_adata.obsm['spatial'] = adata.obsm['spatial']"
   ]
  },
  {
   "cell_type": "markdown",
   "id": "c883cb4b",
   "metadata": {},
   "source": [
    "# Using UTAG"
   ]
  },
  {
   "cell_type": "code",
   "execution_count": null,
   "id": "3e25fde1",
   "metadata": {},
   "outputs": [],
   "source": [
    "# --- 5 ---\n",
    "utag_results = utag(\n",
    "    minimal_adata,\n",
    "    slide_key=\"roi\",\n",
    "    max_dist=15,\n",
    "    normalization_mode='l1_norm',\n",
    "    apply_clustering=True,\n",
    "    clustering_method='leiden',\n",
    "    resolutions=[0.2]\n",
    ")\n"
   ]
  },
  {
   "cell_type": "markdown",
   "id": "6f7fa7e4",
   "metadata": {},
   "source": [
    "# Visualization"
   ]
  },
  {
   "cell_type": "code",
   "execution_count": null,
   "id": "7a16c097",
   "metadata": {},
   "outputs": [],
   "source": [
    "# --- 6 ---\n",
    "spatial_coords = pd.DataFrame(minimal_adata.obsm['spatial'], columns=['y', 'x'])\n",
    "utag_labels = utag_results.obs['UTAG Label_leiden_0.2'].astype(str).to_numpy()\n",
    "\n",
    "plt.figure(figsize=(6, 5), dpi=150)\n",
    "sns.scatterplot(\n",
    "    x=spatial_coords['x'],\n",
    "    y=-spatial_coords['y'],  # 反转y坐标\n",
    "    hue=utag_labels,\n",
    "    palette='tab20',\n",
    "    s=10,\n",
    "    linewidth=0\n",
    ")\n",
    "plt.title(\"UTAG Clustering_xenium_tacco\")\n",
    "plt.axis('equal')\n",
    "plt.axis('off')\n",
    "plt.legend(bbox_to_anchor=(1.05, 1), loc='upper left', fontsize=6, markerscale=0.7, frameon=True)\n",
    "plt.tight_layout()\n",
    "plt.show()"
   ]
  },
  {
   "cell_type": "markdown",
   "id": "36e9224f",
   "metadata": {},
   "source": [
    "# Calculate ARI"
   ]
  },
  {
   "cell_type": "code",
   "execution_count": null,
   "id": "fe122036",
   "metadata": {},
   "outputs": [],
   "source": [
    "# --- 7 ---\n",
    "true_domains = adata.obs['cleaned_cluster'].to_numpy()\n",
    "predicted_domains = utag_results.obs['UTAG Label_leiden_0.2'].to_numpy()\n",
    "\n",
    "valid_mask = ~pd.isna(true_domains)\n",
    "true_domains_clean = true_domains[valid_mask]\n",
    "predicted_domains_clean = predicted_domains[valid_mask]\n",
    "\n",
    "ari_score = adjusted_rand_score(true_domains_clean, predicted_domains_clean)\n",
    "print(f\"\\nAdjusted Rand Index (ARI) between UTAG clustering and true domains: {ari_score:.4f}\")"
   ]
  }
 ],
 "metadata": {
  "language_info": {
   "name": "python"
  }
 },
 "nbformat": 4,
 "nbformat_minor": 5
}
